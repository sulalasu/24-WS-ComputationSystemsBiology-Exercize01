{
 "cells": [
  {
   "cell_type": "code",
   "execution_count": 271,
   "id": "1d4c6fd3-7b92-46ed-b5d8-4358e940c56b",
   "metadata": {},
   "outputs": [],
   "source": [
    "import cobra\n",
    "import os"
   ]
  },
  {
   "cell_type": "code",
   "execution_count": 275,
   "id": "722f0eb2",
   "metadata": {},
   "outputs": [
    {
     "name": "stdout",
     "output_type": "stream",
     "text": [
      "/home/lukasu/Desktop/24-WS-ComputationSystemsBiology/Exercize_01/raw_data/\n"
     ]
    }
   ],
   "source": [
    "data_directory = os.getcwd() + \"/raw_data/\"\n"
   ]
  },
  {
   "cell_type": "markdown",
   "id": "21d4a7e8",
   "metadata": {},
   "source": [
    "# Load Models and inspect them"
   ]
  },
  {
   "cell_type": "markdown",
   "id": "88c0e428",
   "metadata": {},
   "source": [
    "### Core Model"
   ]
  },
  {
   "cell_type": "code",
   "execution_count": 276,
   "id": "ed3d8de1-af97-4038-aa37-b5d2f72ab16f",
   "metadata": {},
   "outputs": [
    {
     "data": {
      "text/html": [
       "<h3>Objective</h3><p>1.0 BIOMASS_Ecoli_core_w_GAM = 0.8739215069684295</p><h4>Uptake</h4><table border=\"1\" class=\"dataframe\">\n",
       "  <thead>\n",
       "    <tr style=\"text-align: right;\">\n",
       "      <th>Metabolite</th>\n",
       "      <th>Reaction</th>\n",
       "      <th>Flux</th>\n",
       "      <th>C-Number</th>\n",
       "      <th>C-Flux</th>\n",
       "    </tr>\n",
       "  </thead>\n",
       "  <tbody>\n",
       "    <tr>\n",
       "      <td>glc__D_e</td>\n",
       "      <td>EX_glc__D_e</td>\n",
       "      <td>10</td>\n",
       "      <td>6</td>\n",
       "      <td>100.00%</td>\n",
       "    </tr>\n",
       "    <tr>\n",
       "      <td>nh4_e</td>\n",
       "      <td>EX_nh4_e</td>\n",
       "      <td>4.765</td>\n",
       "      <td>0</td>\n",
       "      <td>0.00%</td>\n",
       "    </tr>\n",
       "    <tr>\n",
       "      <td>o2_e</td>\n",
       "      <td>EX_o2_e</td>\n",
       "      <td>21.8</td>\n",
       "      <td>0</td>\n",
       "      <td>0.00%</td>\n",
       "    </tr>\n",
       "    <tr>\n",
       "      <td>pi_e</td>\n",
       "      <td>EX_pi_e</td>\n",
       "      <td>3.215</td>\n",
       "      <td>0</td>\n",
       "      <td>0.00%</td>\n",
       "    </tr>\n",
       "  </tbody>\n",
       "</table><h4>Secretion</h4><table border=\"1\" class=\"dataframe\">\n",
       "  <thead>\n",
       "    <tr style=\"text-align: right;\">\n",
       "      <th>Metabolite</th>\n",
       "      <th>Reaction</th>\n",
       "      <th>Flux</th>\n",
       "      <th>C-Number</th>\n",
       "      <th>C-Flux</th>\n",
       "    </tr>\n",
       "  </thead>\n",
       "  <tbody>\n",
       "    <tr>\n",
       "      <td>co2_e</td>\n",
       "      <td>EX_co2_e</td>\n",
       "      <td>-22.81</td>\n",
       "      <td>1</td>\n",
       "      <td>100.00%</td>\n",
       "    </tr>\n",
       "    <tr>\n",
       "      <td>h2o_e</td>\n",
       "      <td>EX_h2o_e</td>\n",
       "      <td>-29.18</td>\n",
       "      <td>0</td>\n",
       "      <td>0.00%</td>\n",
       "    </tr>\n",
       "    <tr>\n",
       "      <td>h_e</td>\n",
       "      <td>EX_h_e</td>\n",
       "      <td>-17.53</td>\n",
       "      <td>0</td>\n",
       "      <td>0.00%</td>\n",
       "    </tr>\n",
       "  </tbody>\n",
       "</table>"
      ],
      "text/plain": [
       "<cobra.summary.model_summary.ModelSummary at 0x7fa0f3928fa0>"
      ]
     },
     "execution_count": 276,
     "metadata": {},
     "output_type": "execute_result"
    }
   ],
   "source": [
    "core_model = cobra.io.read_sbml_model(data_directory + \"e_coli_core.xml\")\n",
    "core_model.summary()"
   ]
  },
  {
   "cell_type": "code",
   "execution_count": 277,
   "id": "de9088bb",
   "metadata": {},
   "outputs": [
    {
     "data": {
      "text/html": [
       "<h3>Objective</h3><p>1.0 BIOMASS_Ec_iAF1260_core_59p81M = 0.7367009388648952</p><h4>Uptake</h4><table border=\"1\" class=\"dataframe\">\n",
       "  <thead>\n",
       "    <tr style=\"text-align: right;\">\n",
       "      <th>Metabolite</th>\n",
       "      <th>Reaction</th>\n",
       "      <th>Flux</th>\n",
       "      <th>C-Number</th>\n",
       "      <th>C-Flux</th>\n",
       "    </tr>\n",
       "  </thead>\n",
       "  <tbody>\n",
       "    <tr>\n",
       "      <td>ca2_e</td>\n",
       "      <td>EX_ca2_e</td>\n",
       "      <td>0.00349</td>\n",
       "      <td>0</td>\n",
       "      <td>0.00%</td>\n",
       "    </tr>\n",
       "    <tr>\n",
       "      <td>cl_e</td>\n",
       "      <td>EX_cl_e</td>\n",
       "      <td>0.00349</td>\n",
       "      <td>0</td>\n",
       "      <td>0.00%</td>\n",
       "    </tr>\n",
       "    <tr>\n",
       "      <td>cobalt2_e</td>\n",
       "      <td>EX_cobalt2_e</td>\n",
       "      <td>0.002327</td>\n",
       "      <td>0</td>\n",
       "      <td>0.00%</td>\n",
       "    </tr>\n",
       "    <tr>\n",
       "      <td>cu2_e</td>\n",
       "      <td>EX_cu2_e</td>\n",
       "      <td>0.002327</td>\n",
       "      <td>0</td>\n",
       "      <td>0.00%</td>\n",
       "    </tr>\n",
       "    <tr>\n",
       "      <td>fe2_e</td>\n",
       "      <td>EX_fe2_e</td>\n",
       "      <td>0.0108</td>\n",
       "      <td>0</td>\n",
       "      <td>0.00%</td>\n",
       "    </tr>\n",
       "    <tr>\n",
       "      <td>glc__D_e</td>\n",
       "      <td>EX_glc__D_e</td>\n",
       "      <td>8</td>\n",
       "      <td>6</td>\n",
       "      <td>100.00%</td>\n",
       "    </tr>\n",
       "    <tr>\n",
       "      <td>k_e</td>\n",
       "      <td>EX_k_e</td>\n",
       "      <td>0.1308</td>\n",
       "      <td>0</td>\n",
       "      <td>0.00%</td>\n",
       "    </tr>\n",
       "    <tr>\n",
       "      <td>mg2_e</td>\n",
       "      <td>EX_mg2_e</td>\n",
       "      <td>0.005816</td>\n",
       "      <td>0</td>\n",
       "      <td>0.00%</td>\n",
       "    </tr>\n",
       "    <tr>\n",
       "      <td>mn2_e</td>\n",
       "      <td>EX_mn2_e</td>\n",
       "      <td>0.002327</td>\n",
       "      <td>0</td>\n",
       "      <td>0.00%</td>\n",
       "    </tr>\n",
       "    <tr>\n",
       "      <td>mobd_e</td>\n",
       "      <td>EX_mobd_e</td>\n",
       "      <td>0.002327</td>\n",
       "      <td>0</td>\n",
       "      <td>0.00%</td>\n",
       "    </tr>\n",
       "    <tr>\n",
       "      <td>nh4_e</td>\n",
       "      <td>EX_nh4_e</td>\n",
       "      <td>7.945</td>\n",
       "      <td>0</td>\n",
       "      <td>0.00%</td>\n",
       "    </tr>\n",
       "    <tr>\n",
       "      <td>o2_e</td>\n",
       "      <td>EX_o2_e</td>\n",
       "      <td>16.27</td>\n",
       "      <td>0</td>\n",
       "      <td>0.00%</td>\n",
       "    </tr>\n",
       "    <tr>\n",
       "      <td>pi_e</td>\n",
       "      <td>EX_pi_e</td>\n",
       "      <td>0.7082</td>\n",
       "      <td>0</td>\n",
       "      <td>0.00%</td>\n",
       "    </tr>\n",
       "    <tr>\n",
       "      <td>so4_e</td>\n",
       "      <td>EX_so4_e</td>\n",
       "      <td>0.1844</td>\n",
       "      <td>0</td>\n",
       "      <td>0.00%</td>\n",
       "    </tr>\n",
       "    <tr>\n",
       "      <td>zn2_e</td>\n",
       "      <td>EX_zn2_e</td>\n",
       "      <td>0.002327</td>\n",
       "      <td>0</td>\n",
       "      <td>0.00%</td>\n",
       "    </tr>\n",
       "  </tbody>\n",
       "</table><h4>Secretion</h4><table border=\"1\" class=\"dataframe\">\n",
       "  <thead>\n",
       "    <tr style=\"text-align: right;\">\n",
       "      <th>Metabolite</th>\n",
       "      <th>Reaction</th>\n",
       "      <th>Flux</th>\n",
       "      <th>C-Number</th>\n",
       "      <th>C-Flux</th>\n",
       "    </tr>\n",
       "  </thead>\n",
       "  <tbody>\n",
       "    <tr>\n",
       "      <td>4hba_c</td>\n",
       "      <td>DM_4hba_c</td>\n",
       "      <td>-0.0001643</td>\n",
       "      <td>7</td>\n",
       "      <td>0.01%</td>\n",
       "    </tr>\n",
       "    <tr>\n",
       "      <td>hmfurn_c</td>\n",
       "      <td>DM_hmfurn_c</td>\n",
       "      <td>-0.0003286</td>\n",
       "      <td>5</td>\n",
       "      <td>0.01%</td>\n",
       "    </tr>\n",
       "    <tr>\n",
       "      <td>co2_e</td>\n",
       "      <td>EX_co2_e</td>\n",
       "      <td>-17.83</td>\n",
       "      <td>1</td>\n",
       "      <td>99.98%</td>\n",
       "    </tr>\n",
       "    <tr>\n",
       "      <td>h2o_e</td>\n",
       "      <td>EX_h2o_e</td>\n",
       "      <td>-37.24</td>\n",
       "      <td>0</td>\n",
       "      <td>0.00%</td>\n",
       "    </tr>\n",
       "    <tr>\n",
       "      <td>h_e</td>\n",
       "      <td>EX_h_e</td>\n",
       "      <td>-6.761</td>\n",
       "      <td>0</td>\n",
       "      <td>0.00%</td>\n",
       "    </tr>\n",
       "  </tbody>\n",
       "</table>"
      ],
      "text/plain": [
       "<cobra.summary.model_summary.ModelSummary at 0x7fa0f1aaa3d0>"
      ]
     },
     "execution_count": 277,
     "metadata": {},
     "output_type": "execute_result"
    }
   ],
   "source": [
    "iAf1260_model = cobra.io.read_sbml_model(data_directory + \"iAF1260.xml\")\n",
    "iAf1260_model.summary()"
   ]
  },
  {
   "cell_type": "markdown",
   "id": "2bb16329",
   "metadata": {},
   "source": [
    "### Helper functions"
   ]
  },
  {
   "cell_type": "code",
   "execution_count": 286,
   "id": "d04e59d2",
   "metadata": {},
   "outputs": [],
   "source": [
    "def get_EX_reactions_list(model):\n",
    "    #Print all exchange reactions IDs & add IDs to EXCHANGE_list\n",
    "    ex_reactions = []\n",
    "\n",
    "    for reaction in model.reactions:\n",
    "        if str(reaction.id).startswith(\"EX_\"):\n",
    "            ex_reactions.append(reaction.id)\n",
    "\n",
    "    return ex_reactions\n",
    "\n",
    "\n",
    "def print_EX_lower_bounds(model):\n",
    "    for reaction in model.reactions:\n",
    "        if str(reaction.id).startswith(\"EX_\"):\n",
    "            print(f\"{reaction.id}, {reaction.lower_bound}\")\n",
    "\n",
    "            \n",
    "def set_all_lower_bounds(model, lower_bound = -1000):\n",
    "    for reaction in model.reactions:\n",
    "        if str(reaction.id).startswith(\"EX_\"):\n",
    "            reaction.lower_bound = -1000\n",
    "\n",
    "\n",
    "def print_essential_A(metabolites):\n",
    "    #metabolites is a dict with metabolite:objective_value (for this metaboite being knocked out)\n",
    "    for k, v in metabolites.items():\n",
    "        if v <= 0:\n",
    "            print(f\"{k}: {v}\")\n",
    "\n",
    "#metabolites: dictionary with string of reaction id as key, lower_bound as value.\n",
    "# Contains a set of lower_bounds for all EX_ reactions, that lead to a biomass growth of zero (obejctive value)\n",
    "#Prints all Metabolites that are knocked out, when using appraoch B (in alphabetical order):\n",
    "def print_essential_B(metabolites, print_len = False):\n",
    "    i = 0\n",
    "    sorted_dict = {key: value for key, value in sorted(metabolites.items())}\n",
    "    for k, v in sorted_dict.items():\n",
    "        #print(f\"{k} ({v})\")\n",
    "\n",
    "        if v != 0:\n",
    "            print(f\"{k} ({v})\")\n",
    "            i += 1\n",
    "\n",
    "    if print_len:\n",
    "        print(i)\n",
    "\n"
   ]
  },
  {
   "cell_type": "markdown",
   "id": "ebff70fa",
   "metadata": {},
   "source": [
    "### Set Objective reactions \n",
    "=Biomass producing reaction\n",
    "(is set to this by default already)"
   ]
  },
  {
   "cell_type": "code",
   "execution_count": 120,
   "id": "264fdbdc",
   "metadata": {},
   "outputs": [],
   "source": [
    "core_model.objective = \"BIOMASS_Ecoli_core_w_GAM\"\n",
    "iAf1260_model.objective = \"BIOMASS_Ec_iAF1260_core_59p81M\""
   ]
  },
  {
   "cell_type": "code",
   "execution_count": 121,
   "id": "86d9aa88",
   "metadata": {},
   "outputs": [
    {
     "data": {
      "text/html": [
       "\n",
       "        <table>\n",
       "            <tr>\n",
       "                <td><strong>Reaction identifier</strong></td><td>BIOMASS_Ecoli_core_w_GAM</td>\n",
       "            </tr><tr>\n",
       "                <td><strong>Name</strong></td><td>Biomass Objective Function with GAM</td>\n",
       "            </tr><tr>\n",
       "                <td><strong>Memory address</strong></td>\n",
       "                <td>0x7fa0f0511df0</td>\n",
       "            </tr><tr>\n",
       "                <td><strong>Stoichiometry</strong></td>\n",
       "                <td>\n",
       "                    <p style='text-align:right'>1.496 3pg_c + 3.7478 accoa_c + 59.81 atp_c + 0.361 e4p_c + 0.0709 f6p_c + 0.129 g3p_c + 0.205 g6p_c + 0.2557 gln__L_c + 4.9414 glu__L_c + 59.81 h2o_c + 3.547 nad_c + 13.0279 nadph_c + 1.7867 oaa_c...</p>\n",
       "                    <p style='text-align:right'>1.496 3-Phospho-D-glycerate + 3.7478 Acetyl-CoA + 59.81 ATP C10H12N5O13P3 + 0.361 D-Erythrose 4-phosphate + 0.0709 D-Fructose 6-phosphate + 0.129 Glyceraldehyde 3-phosphate + 0.205 D-Glucose...</p>\n",
       "                </td>\n",
       "            </tr><tr>\n",
       "                <td><strong>GPR</strong></td><td></td>\n",
       "            </tr><tr>\n",
       "                <td><strong>Lower bound</strong></td><td>0.0</td>\n",
       "            </tr><tr>\n",
       "                <td><strong>Upper bound</strong></td><td>1000.0</td>\n",
       "            </tr>\n",
       "        </table>\n",
       "        "
      ],
      "text/plain": [
       "<Reaction BIOMASS_Ecoli_core_w_GAM at 0x7fa0f0511df0>"
      ]
     },
     "execution_count": 121,
     "metadata": {},
     "output_type": "execute_result"
    }
   ],
   "source": [
    "#Show objective reaction Info\n",
    "core_model.reactions.get_by_id(\"BIOMASS_Ecoli_core_w_GAM\") #get id either from 'core_model', 'core_model.summary()' or from list of all reactions"
   ]
  },
  {
   "cell_type": "markdown",
   "id": "fae02967",
   "metadata": {},
   "source": [
    "# Original State FBA"
   ]
  },
  {
   "cell_type": "code",
   "execution_count": 122,
   "id": "b2ce6ab0",
   "metadata": {},
   "outputs": [
    {
     "name": "stdout",
     "output_type": "stream",
     "text": [
      "core: 0.8739215069684271,\n",
      "iAf1260: 0.7367009388648729\n"
     ]
    }
   ],
   "source": [
    "core_solution = core_model.slim_optimize()\n",
    "iAf1260_solution = iAf1260_model.slim_optimize()\n",
    "\n",
    "print(f\"core: {core_solution},\\niAf1260: {iAf1260_solution}\")"
   ]
  },
  {
   "cell_type": "markdown",
   "id": "f89a8ff5",
   "metadata": {},
   "source": [
    "# Set lower bounds to -1000\n",
    "Set all exchange reaction's intake to -1000"
   ]
  },
  {
   "cell_type": "code",
   "execution_count": 123,
   "id": "dfbcc05b",
   "metadata": {},
   "outputs": [],
   "source": [
    "set_all_lower_bounds(core_model)\n",
    "set_all_lower_bounds(iAf1260_model)"
   ]
  },
  {
   "cell_type": "code",
   "execution_count": 124,
   "id": "d44670c0",
   "metadata": {},
   "outputs": [
    {
     "name": "stdout",
     "output_type": "stream",
     "text": [
      "core: 40.85486846759244,\n",
      "iAf1260: 3748.822043475117\n"
     ]
    }
   ],
   "source": [
    "core_solution = core_model.slim_optimize()\n",
    "iAf1260_solution = iAf1260_model.slim_optimize()\n",
    "\n",
    "print(f\"core: {core_solution},\\niAf1260: {iAf1260_solution}\")"
   ]
  },
  {
   "cell_type": "markdown",
   "id": "75a080e8",
   "metadata": {},
   "source": [
    "# Approach A\n",
    "Start with all uptakes enabled,  \n",
    "switch off one uptake and check if growth is  still possible.  \n",
    "Switch the uptake back on and test the next component."
   ]
  },
  {
   "cell_type": "code",
   "execution_count": 278,
   "id": "9c0f1389",
   "metadata": {},
   "outputs": [],
   "source": [
    "\n",
    "def approach_A(model, lower_value = 0, initial_lower_value = -1000, rounding_digit = 5):\n",
    "    #returns dictionary with changed reaction id as key, corresponding objective value as value\n",
    "    solutions = {}\n",
    "    \n",
    "    EX_reactions = get_EX_reactions_list(model)\n",
    "\n",
    "    for reaction in EX_reactions:\n",
    "\n",
    "        model.reactions.get_by_id(reaction).lower_bound = lower_value\n",
    "        objective_value = model.slim_optimize() #FBA\n",
    "\n",
    "        #if round(objective_value, rounding_digit) <= 0:\n",
    "        solutions[reaction] = round(objective_value, rounding_digit)\n",
    "        \n",
    "        #reset lower bound to value of parameter \"initial_lower_value\"\n",
    "        model.reactions.get_by_id(reaction).lower_bound = initial_lower_value\n",
    "\n",
    "    return solutions\n",
    "\n",
    "\n"
   ]
  },
  {
   "cell_type": "code",
   "execution_count": 279,
   "id": "d126412a",
   "metadata": {},
   "outputs": [
    {
     "name": "stdout",
     "output_type": "stream",
     "text": [
      "EX_pi_e: 0.0\n"
     ]
    }
   ],
   "source": [
    "core_A = approach_A(core_model)\n",
    "\n",
    "print_essential_A(core_A)"
   ]
  },
  {
   "cell_type": "code",
   "execution_count": 129,
   "id": "b2f057cd",
   "metadata": {},
   "outputs": [
    {
     "name": "stdout",
     "output_type": "stream",
     "text": [
      "EX_ca2_e: -0.0\n",
      "EX_cl_e: 0.0\n",
      "EX_cobalt2_e: 0.0\n",
      "EX_mg2_e: -0.0\n",
      "EX_mn2_e: 0.0\n",
      "EX_mobd_e: 0.0\n",
      "EX_zn2_e: -0.0\n",
      "EX_k_e: 0.0\n"
     ]
    }
   ],
   "source": [
    "iAf1260_A = approach_A(iAf1260_model)\n",
    "#print_EX_lower_bounds(iAf1260_model)\n",
    "\n",
    "print_essential_A(iAf1260_A)\n"
   ]
  },
  {
   "cell_type": "markdown",
   "id": "a852a5c0",
   "metadata": {},
   "source": [
    "### Approach A interpretation:\n",
    "\n",
    "For this approach, there was always only a single reaction turned off.\n",
    "If the FBA leads to an objective value of zero, then the microorganism cant grow without this metabolite.\n",
    "Setting the others to zero may have an impact on growth rate/biomass production, O2, but the organism can switch to fermentation to combat the missing electron acceptor.\n",
    "\n",
    "This mean, for the core model, only Pi is an essential Metabolite.\n",
    "For the iAf1260 model, Ca2+, Cl-, Cobalt2+, Mg2+, Mn2+, Mobd, Zn2+, k are all essential.\n",
    "If just one of them is missing, there wont be any biomass growth.\n",
    "\n",
    "#### Does enabling all uptakes identified as essential (and  switching off the uptake for all other exchange reactions) lead to a valid growth medium?  \n",
    "#### Does this approach guarantee that you find a valid growth  medium? Why (not)?  \n",
    "#### Is the result necessarily unique? If not, what could it  depend on?"
   ]
  },
  {
   "cell_type": "markdown",
   "id": "902d7601",
   "metadata": {},
   "source": [
    "# Approach B\n",
    "Enable all uptakes, switch one off and check if growth is possible.  \n",
    "    If growth is still possible, remove the next one,  \n",
    "    If not, switch it back on and then remove the next one.  \n",
    "Repeat until all uptakes were tested"
   ]
  },
  {
   "cell_type": "code",
   "execution_count": 280,
   "id": "b84dcdb9",
   "metadata": {},
   "outputs": [],
   "source": [
    "from random import shuffle\n",
    "\n",
    "#Returns a dictionary with reaction ids as keys, lower_bounds as value. \n",
    "# This shows a set of metabolites, that are essential to biomass growth \n",
    "def approach_B(model, lower_value = 0, initial_lower_value = -1000, rounding_digit = 5, randomize_order = True):\n",
    "    \n",
    "\n",
    "    solution = {}\n",
    "\n",
    "    reactions = get_EX_reactions_list(model)\n",
    "\n",
    "    if randomize_order:\n",
    "        shuffle(reactions)\n",
    "\n",
    "    #test uptakes by iterating over exchange reactions id:\n",
    "    for reaction in reactions: #model.medium:\n",
    "        model.reactions.get_by_id(reaction).lower_bound = lower_value\n",
    "\n",
    "        if round(model.slim_optimize(), rounding_digit) > 0:\n",
    "            solution[reaction] = model.reactions.get_by_id(reaction).lower_bound\n",
    "            continue\n",
    "        else:\n",
    "            model.reactions.get_by_id(reaction).lower_bound = initial_lower_value\n",
    "            \n",
    "        solution[reaction] = model.reactions.get_by_id(reaction).lower_bound    \n",
    "        \n",
    "\n",
    "    return solution"
   ]
  },
  {
   "cell_type": "code",
   "execution_count": 281,
   "id": "5b9a2f20",
   "metadata": {},
   "outputs": [],
   "source": [
    "set_all_lower_bounds(core_model)\n",
    "set_all_lower_bounds(iAf1260_model)"
   ]
  },
  {
   "cell_type": "code",
   "execution_count": 288,
   "id": "2e47ed87",
   "metadata": {},
   "outputs": [
    {
     "name": "stdout",
     "output_type": "stream",
     "text": [
      "EX_nh4_e (-1000)\n",
      "EX_o2_e (-1000)\n",
      "EX_pi_e (-1000)\n",
      "EX_pyr_e (-1000)\n",
      "4\n"
     ]
    }
   ],
   "source": [
    "core_B = approach_B(core_model, randomize_order=False)\n",
    "#print(core_B)\n",
    "print_essential_B(core_B, print_len=True)\n"
   ]
  },
  {
   "cell_type": "code",
   "execution_count": 289,
   "id": "1bb26410",
   "metadata": {},
   "outputs": [
    {
     "name": "stdout",
     "output_type": "stream",
     "text": [
      "EX_ca2_e (-1000)\n",
      "EX_cl_e (-1000)\n",
      "EX_cobalt2_e (-1000)\n",
      "EX_cu2_e (-1000)\n",
      "EX_fe3_e (-1000)\n",
      "EX_gal_bD_e (-1000)\n",
      "EX_k_e (-1000)\n",
      "EX_mg2_e (-1000)\n",
      "EX_mn2_e (-1000)\n",
      "EX_mobd_e (-1000)\n",
      "EX_so4_e (-1000)\n",
      "EX_thrp_e (-1000)\n",
      "EX_zn2_e (-1000)\n",
      "13\n"
     ]
    }
   ],
   "source": [
    "iAf1260_B = approach_B(iAf1260_model)\n",
    "\n",
    "print_essential_B(iAf1260_B, print_len = True)\n"
   ]
  },
  {
   "cell_type": "markdown",
   "id": "c674b52c",
   "metadata": {},
   "source": [
    "### Approach B interpretation\n",
    "##### Does it guarantee a valid growth medium?  \n",
    "##### Does it guarantee a medium with a minimal number of components?  \n",
    "##### Is the result necessarily unique? If not, what could it  depend on?"
   ]
  },
  {
   "cell_type": "markdown",
   "id": "42c4b887",
   "metadata": {},
   "source": [
    "# Approach C\n"
   ]
  },
  {
   "cell_type": "markdown",
   "id": "e4cc6d0c",
   "metadata": {},
   "source": [
    "Set up a linear program to minimize the number of uptake reactions that enables growth"
   ]
  },
  {
   "cell_type": "code",
   "execution_count": 261,
   "id": "c0288a70",
   "metadata": {},
   "outputs": [],
   "source": [
    "set_all_lower_bounds(core_model)\n",
    "set_all_lower_bounds(iAf1260_model)"
   ]
  },
  {
   "cell_type": "code",
   "execution_count": 269,
   "id": "d3c56be3",
   "metadata": {},
   "outputs": [
    {
     "name": "stdout",
     "output_type": "stream",
     "text": [
      "EX_glu__L_e    332.395406\n",
      "EX_o2_e        500.000000\n",
      "EX_pi_e         55.795559\n",
      "dtype: float64\n"
     ]
    }
   ],
   "source": [
    "growth_rate = 1\n",
    "\n",
    "core_C = cobra.medium.minimal_medium(core_model, growth_rate, minimize_components=True)\n",
    "print(core_C)\n",
    "\n"
   ]
  },
  {
   "cell_type": "code",
   "execution_count": 270,
   "id": "b505d5c9",
   "metadata": {},
   "outputs": [
    {
     "name": "stdout",
     "output_type": "stream",
     "text": [
      "EX_amp_e        1000.000000\n",
      "EX_ca2_e           0.004737\n",
      "EX_cl_e            0.004737\n",
      "EX_cobalt2_e       0.003158\n",
      "EX_cu2_e           0.003158\n",
      "EX_mg2_e           0.007895\n",
      "EX_mn2_e           0.003158\n",
      "EX_mobd_e          0.003158\n",
      "EX_fe3dcit_e    1000.000000\n",
      "EX_zn2_e           0.003158\n",
      "EX_so4_e           0.250250\n",
      "EX_k_e             0.177600\n",
      "dtype: float64\n"
     ]
    }
   ],
   "source": [
    "iAf1260_C = cobra.medium.minimal_medium(iAf1260_model, growth_rate, minimize_components=True)\n",
    "print(iAf1260_C)\n"
   ]
  },
  {
   "cell_type": "code",
   "execution_count": null,
   "id": "f7052cf6",
   "metadata": {},
   "outputs": [],
   "source": []
  },
  {
   "cell_type": "code",
   "execution_count": null,
   "id": "55926a09",
   "metadata": {},
   "outputs": [],
   "source": []
  },
  {
   "cell_type": "code",
   "execution_count": null,
   "id": "a64a5ac6",
   "metadata": {},
   "outputs": [],
   "source": []
  },
  {
   "cell_type": "markdown",
   "id": "20257324",
   "metadata": {},
   "source": [
    "### Approach C Iterpretation\n",
    "\n",
    "#### Does it result in the same components as strategies A and B?  \n",
    "#### If yes, is this necessarily the case? If no, why not?  \n",
    "#### Is the result of strategy C necessarily unique? If no, what  could it depend on?"
   ]
  }
 ],
 "metadata": {
  "kernelspec": {
   "display_name": "Python 3",
   "language": "python",
   "name": "python3"
  },
  "language_info": {
   "codemirror_mode": {
    "name": "ipython",
    "version": 3
   },
   "file_extension": ".py",
   "mimetype": "text/x-python",
   "name": "python",
   "nbconvert_exporter": "python",
   "pygments_lexer": "ipython3",
   "version": "3.8.10"
  }
 },
 "nbformat": 4,
 "nbformat_minor": 5
}
