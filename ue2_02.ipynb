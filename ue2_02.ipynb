{
 "cells": [
  {
   "cell_type": "markdown",
   "metadata": {},
   "source": [
    "## Task\n",
    "\n",
    "● Write a (Python) program that  \n",
    "○ reads in a network from an sif-file  \n",
    "○ checks if all nodes are connected, and if not finds the giant component (=largest set of nodes\n",
    "that are connected to each other)  \n",
    "○ calculates the closeness centrality for each node in the giant component  \n",
    "■ If you want more of a challenge, you can calculate the betweenness centrality instead\n",
    "\n",
    "● You can check your results with cytoscape or NetworkX (https://networkx.org/)\n",
    "\n",
    "● You can not use any of the functionalities of NetworkX, you have to write the\n",
    "code on your own  \n",
    "○ You can use “standard” Python libraries, but nothing related to networks. If in doubt, ask me.\n",
    "\n",
    "● There are no points for style or efficiency etc, but your code needs to be able  \n",
    "to calculate the chosen centrality for galFiltered.sif (see below) in a\n",
    "reasonable time"
   ]
  },
  {
   "cell_type": "markdown",
   "metadata": {},
   "source": [
    "#### Additional information\n",
    "● Simple interaction format  \n",
    "○ Different flavours, the examples I provide are written as  \n",
    "Node1 pp Node2  \n",
    "Node1 pp Node3  \n",
    "Node2 pp Node4  \n",
    "● pp stands for protein-protein, it doesn’t matter for this exercise  \n",
    "● Each line in the sif file corresponds to an edge in the network, conversely  \n",
    "there is one line for each edge"
   ]
  },
  {
   "cell_type": "markdown",
   "metadata": {},
   "source": []
  },
  {
   "cell_type": "code",
   "execution_count": 495,
   "metadata": {},
   "outputs": [],
   "source": [
    "import os\n",
    "import matplotlib as plt\n",
    "import numpy as np\n",
    "import networkx as nx\n",
    "from random import choice"
   ]
  },
  {
   "cell_type": "code",
   "execution_count": 496,
   "metadata": {},
   "outputs": [],
   "source": [
    "cwd = os.getcwd()\n",
    "\n",
    "def read_file(filename, cwd = cwd):\n",
    "    #returns edge list stored in file\n",
    "    with open(cwd + \"/02_testfiles/\" + filename) as file:\n",
    "        contents = []\n",
    "\n",
    "        for line in file:\n",
    "            line = line.strip().split(sep=\" pp \")\n",
    "            contents.append((line[0], line[1]))\n",
    "\n",
    "\n",
    "    return contents\n",
    "\n"
   ]
  },
  {
   "cell_type": "code",
   "execution_count": 497,
   "metadata": {},
   "outputs": [],
   "source": [
    "# def convert_node_names_to_nums(edge_list_names, node_list):\n",
    "#     #make dictionary with key = node name, value = node number representation\n",
    "#     edge_nums = []\n",
    "\n",
    "#     for edge in edge_list_names:\n",
    "#         source = node_list.index(edge[0])\n",
    "#         destination = node_list.index(edge[1])\n",
    "#         edge_nums.append((source, destination))\n",
    "        \n",
    "#     return edge_nums\n",
    "        \n"
   ]
  },
  {
   "cell_type": "code",
   "execution_count": 498,
   "metadata": {},
   "outputs": [],
   "source": [
    "def make_label_dict(node_list):\n",
    "    label_dict = {}\n",
    "    node_num = 0\n",
    "\n",
    "    for node in node_list:\n",
    "        label_dict[node] = node_num\n",
    "        node_num += 1\n",
    "\n",
    "    return label_dict\n",
    "\n",
    "def convert_node_names_to_nums(edge_list_names, node_list):\n",
    "    #make dictionary with key = node name, value = node number representation\n",
    "    label_dict = make_label_dict(node_list)\n",
    "\n",
    "    edge_nums = []\n",
    "\n",
    "    for edge in edge_list_names:\n",
    "        source = label_dict[edge[0]]\n",
    "        destination = label_dict[edge[1]]\n",
    "        edge_nums.append((source, destination))\n",
    "\n",
    "    # for edge in edge_list_names:\n",
    "    #     source = node_list.index(edge[0])\n",
    "    #     destination = node_list.index(edge[1])\n",
    "    #     edge_nums.append((source, destination))\n",
    "        \n",
    "    return edge_nums\n",
    "        \n"
   ]
  },
  {
   "cell_type": "code",
   "execution_count": 499,
   "metadata": {},
   "outputs": [],
   "source": [
    "def get_Node_list(edge_list):\n",
    "    #returns a Node list from an edge_list\n",
    "    node_list = []\n",
    "    for edge in edge_list:\n",
    "        for node in edge:\n",
    "            if node not in node_list:\n",
    "                node_list.append(node)\n",
    "\n",
    "    node_list.sort()\n",
    "\n",
    "    return node_list"
   ]
  },
  {
   "cell_type": "code",
   "execution_count": 500,
   "metadata": {},
   "outputs": [],
   "source": [
    "def make_adjacency_matrix(edges, nodes):\n",
    "    #initialize zero adjacency matrix:\n",
    "    adj_matrix = [[0 for _ in range(len(nodes))] for _ in range(len(nodes))]\n",
    "\n",
    "    #set connections to 1:\n",
    "    for edge in edges:\n",
    "        source = edge[0]\n",
    "        destination = edge[1]\n",
    "\n",
    "        adj_matrix[source][destination] = 1\n",
    "\n",
    "        adj_matrix[destination][source] = 1\n",
    "\n",
    "    return adj_matrix\n",
    "    print(adj_matrix)"
   ]
  },
  {
   "cell_type": "code",
   "execution_count": 548,
   "metadata": {},
   "outputs": [
    {
     "data": {
      "text/plain": [
       "[('S', 'T'),\n",
       " ('S', 'U'),\n",
       " ('S', 'V'),\n",
       " ('S', 'W'),\n",
       " ('V', 'W'),\n",
       " ('A', 'B'),\n",
       " ('A', 'C'),\n",
       " ('B', 'D'),\n",
       " ('B', 'E'),\n",
       " ('C', 'F'),\n",
       " ('D', 'H'),\n",
       " ('E', 'F'),\n",
       " ('F', 'G'),\n",
       " ('G', 'H'),\n",
       " ('I', 'J'),\n",
       " ('I', 'K'),\n",
       " ('J', 'K'),\n",
       " ('J', 'L')]"
      ]
     },
     "execution_count": 548,
     "metadata": {},
     "output_type": "execute_result"
    }
   ],
   "source": [
    "tfile_01_edges_names = read_file(\"example2.sif\")\n",
    "tfile_01_edges_names"
   ]
  },
  {
   "cell_type": "code",
   "execution_count": 549,
   "metadata": {},
   "outputs": [
    {
     "data": {
      "text/plain": [
       "['A',\n",
       " 'B',\n",
       " 'C',\n",
       " 'D',\n",
       " 'E',\n",
       " 'F',\n",
       " 'G',\n",
       " 'H',\n",
       " 'I',\n",
       " 'J',\n",
       " 'K',\n",
       " 'L',\n",
       " 'S',\n",
       " 'T',\n",
       " 'U',\n",
       " 'V',\n",
       " 'W']"
      ]
     },
     "execution_count": 549,
     "metadata": {},
     "output_type": "execute_result"
    }
   ],
   "source": [
    "tfile_01_nodes = get_Node_list(tfile_01_edges_names)\n",
    "tfile_01_nodes"
   ]
  },
  {
   "cell_type": "code",
   "execution_count": 550,
   "metadata": {},
   "outputs": [
    {
     "data": {
      "text/plain": [
       "[(12, 13),\n",
       " (12, 14),\n",
       " (12, 15),\n",
       " (12, 16),\n",
       " (15, 16),\n",
       " (0, 1),\n",
       " (0, 2),\n",
       " (1, 3),\n",
       " (1, 4),\n",
       " (2, 5),\n",
       " (3, 7),\n",
       " (4, 5),\n",
       " (5, 6),\n",
       " (6, 7),\n",
       " (8, 9),\n",
       " (8, 10),\n",
       " (9, 10),\n",
       " (9, 11)]"
      ]
     },
     "execution_count": 550,
     "metadata": {},
     "output_type": "execute_result"
    }
   ],
   "source": [
    "tfile_01_edges = convert_node_names_to_nums(tfile_01_edges_names, tfile_01_nodes)\n",
    "tfile_01_edges"
   ]
  },
  {
   "cell_type": "code",
   "execution_count": 551,
   "metadata": {},
   "outputs": [
    {
     "data": {
      "text/plain": [
       "[[0, 1, 1, 0, 0, 0, 0, 0, 0, 0, 0, 0, 0, 0, 0, 0, 0],\n",
       " [1, 0, 0, 1, 1, 0, 0, 0, 0, 0, 0, 0, 0, 0, 0, 0, 0],\n",
       " [1, 0, 0, 0, 0, 1, 0, 0, 0, 0, 0, 0, 0, 0, 0, 0, 0],\n",
       " [0, 1, 0, 0, 0, 0, 0, 1, 0, 0, 0, 0, 0, 0, 0, 0, 0],\n",
       " [0, 1, 0, 0, 0, 1, 0, 0, 0, 0, 0, 0, 0, 0, 0, 0, 0],\n",
       " [0, 0, 1, 0, 1, 0, 1, 0, 0, 0, 0, 0, 0, 0, 0, 0, 0],\n",
       " [0, 0, 0, 0, 0, 1, 0, 1, 0, 0, 0, 0, 0, 0, 0, 0, 0],\n",
       " [0, 0, 0, 1, 0, 0, 1, 0, 0, 0, 0, 0, 0, 0, 0, 0, 0],\n",
       " [0, 0, 0, 0, 0, 0, 0, 0, 0, 1, 1, 0, 0, 0, 0, 0, 0],\n",
       " [0, 0, 0, 0, 0, 0, 0, 0, 1, 0, 1, 1, 0, 0, 0, 0, 0],\n",
       " [0, 0, 0, 0, 0, 0, 0, 0, 1, 1, 0, 0, 0, 0, 0, 0, 0],\n",
       " [0, 0, 0, 0, 0, 0, 0, 0, 0, 1, 0, 0, 0, 0, 0, 0, 0],\n",
       " [0, 0, 0, 0, 0, 0, 0, 0, 0, 0, 0, 0, 0, 1, 1, 1, 1],\n",
       " [0, 0, 0, 0, 0, 0, 0, 0, 0, 0, 0, 0, 1, 0, 0, 0, 0],\n",
       " [0, 0, 0, 0, 0, 0, 0, 0, 0, 0, 0, 0, 1, 0, 0, 0, 0],\n",
       " [0, 0, 0, 0, 0, 0, 0, 0, 0, 0, 0, 0, 1, 0, 0, 0, 1],\n",
       " [0, 0, 0, 0, 0, 0, 0, 0, 0, 0, 0, 0, 1, 0, 0, 1, 0]]"
      ]
     },
     "execution_count": 551,
     "metadata": {},
     "output_type": "execute_result"
    }
   ],
   "source": [
    "tfile_01_adjmat = make_adjacency_matrix(tfile_01_edges, tfile_01_nodes)\n",
    "tfile_01_adjmat"
   ]
  },
  {
   "cell_type": "code",
   "execution_count": null,
   "metadata": {},
   "outputs": [],
   "source": [
    "def get_betweenness_centrality(M, i):\n",
    "    #returns Betweenness centrality (BC) value of node i\n",
    "    #Params: \n",
    "    # M = adjacency matrix\n",
    "    # i = Node i (= Node of interest)\n",
    "    pass\n",
    "\n",
    "    #return BC"
   ]
  },
  {
   "cell_type": "code",
   "execution_count": 552,
   "metadata": {},
   "outputs": [
    {
     "data": {
      "image/png": "[encoded data removed]",
      "text/plain": [
       "<Figure size 640x480 with 1 Axes>"
      ]
     },
     "metadata": {},
     "output_type": "display_data"
    }
   ],
   "source": [
    "G = nx.from_edgelist(tfile_01_edges_names)\n",
    "nx.draw(G, with_labels = True)\n",
    "\n",
    "\n",
    "#np_matrix = np.asmatrix(tfile_01_adjmat)\n",
    "#G3 = nx.from_numpy_array(np_matrix)\n",
    "#nx.draw(G3)\n",
    "\n"
   ]
  },
  {
   "cell_type": "code",
   "execution_count": null,
   "metadata": {},
   "outputs": [],
   "source": [
    "def check_distance(edge_list, node_list, node_of_interest, return_connected_edge_list=False):\n",
    "   #checks distance between two nodes, can be used to check for connectivity\n",
    "   # Params:\n",
    "   # edge_list = list of tuples containing node pairs (=edges)\n",
    "   # node_list = sorted name list of nodes\n",
    "\n",
    "   #make dictionary with node(label):distance,\n",
    "   #additionally make a list of tuples containing all connected edges\n",
    "   distance = 0\n",
    "   distance_dict = {}\n",
    "\n",
    "   #select random starting node if no node of interest is specified:\n",
    "   distance_dict[node_of_interest] = distance\n",
    "      \n",
    "   connected_edge_list = []\n",
    "\n",
    "   condition = True\n",
    "\n",
    "\n",
    "   while condition:\n",
    "      if len(distance_dict) >= len(node_list):\n",
    "         condition = False\n",
    "\n",
    "      distance += 1\n",
    "\n",
    "      recent_nodes = [k for k,v in distance_dict.items() if v == distance - 1]\n",
    "\n",
    "      for node in recent_nodes:\n",
    "         for edge in edge_list:\n",
    "            if node in edge:\n",
    "               #add to connected_edge_list\n",
    "               if edge not in connected_edge_list:\n",
    "                  connected_edge_list.append(edge)\n",
    "               #iterate over edges nodes to get other\n",
    "               for inner_node in edge:\n",
    "                  if inner_node != node and inner_node not in distance_dict:\n",
    "                     distance_dict[inner_node] = distance\n",
    "\n",
    "\n",
    "   if return_connected_edge_list == True:\n",
    "      return distance_dict, connected_edge_list\n",
    "   else:\n",
    "      return distance_dict"
   ]
  },
  {
   "cell_type": "code",
   "execution_count": null,
   "metadata": {},
   "outputs": [],
   "source": [
    "def identify_components(edge_list, node_list):\n",
    "   #checks all connected networks in graph.\n",
    "   # Params:\n",
    "   # edge_list = list of tuples containing node pairs (=edges)\n",
    "   # node_list = sorted name list of nodes\n",
    "\n",
    "\n",
    "   checked_nodes = []\n",
    "   #contains edge_list of found components\n",
    "   found_components = []\n",
    "\n",
    "   #make dictionary with node(label):distance,\n",
    "   #additionally make a list of tuples containing all connected edges\n",
    "   distance = 0\n",
    "   distance_dict = {}\n",
    "\n",
    "\n",
    "   #run as long as not all nodes are checked:\n",
    "   while len(checked_nodes) < node_list:\n",
    "      add_component = True\n",
    "\n",
    "      #select random starting node out of the not-yet checked nodes:\n",
    "      distance_dict[choice(list(set(node_list)-set(checked_nodes)))] = distance\n",
    "   \n",
    "      connected_edge_list = []\n",
    "\n",
    "\n",
    "\n",
    "      while add_component:\n",
    "         if len(distance_dict) >= len(node_list):\n",
    "            add_component = False\n",
    "\n",
    "         distance += 1\n",
    "\n",
    "         recent_nodes = [k for k,v in distance_dict.items() if v == distance - 1]\n",
    "\n",
    "         for node in recent_nodes:\n",
    "            for edge in edge_list:\n",
    "               if node in edge:\n",
    "                  #add to connected_edge_list\n",
    "                  if edge not in connected_edge_list:\n",
    "                     connected_edge_list.append(edge)\n",
    "                  #iterate over edges nodes to get other\n",
    "                  for inner_node in edge:\n",
    "                     if inner_node != node and inner_node not in distance_dict:\n",
    "                        distance_dict[inner_node] = distance\n",
    "\n",
    "   return found_components"
   ]
  },
  {
   "cell_type": "code",
   "execution_count": 554,
   "metadata": {},
   "outputs": [
    {
     "ename": "KeyboardInterrupt",
     "evalue": "",
     "output_type": "error",
     "traceback": [
      "\u001b[0;31m---------------------------------------------------------------------------\u001b[0m",
      "\u001b[0;31mKeyboardInterrupt\u001b[0m                         Traceback (most recent call last)",
      "Cell \u001b[0;32mIn[554], line 1\u001b[0m\n\u001b[0;32m----> 1\u001b[0m distances, connected_edge_list \u001b[38;5;241m=\u001b[39m \u001b[43mcheck_distance\u001b[49m\u001b[43m(\u001b[49m\u001b[43mtfile_01_edges_names\u001b[49m\u001b[43m,\u001b[49m\u001b[43m \u001b[49m\u001b[43mtfile_01_nodes\u001b[49m\u001b[43m,\u001b[49m\u001b[43m \u001b[49m\u001b[43mreturn_connected_edge_list\u001b[49m\u001b[38;5;241;43m=\u001b[39;49m\u001b[38;5;28;43;01mTrue\u001b[39;49;00m\u001b[43m)\u001b[49m\n\u001b[1;32m      2\u001b[0m \u001b[38;5;28mprint\u001b[39m(distances)\n\u001b[1;32m      3\u001b[0m \u001b[38;5;28mprint\u001b[39m(connected_edge_list)\n",
      "Cell \u001b[0;32mIn[553], line 29\u001b[0m, in \u001b[0;36mcheck_distance\u001b[0;34m(edge_list, node_list, node_of_interest, return_connected_edge_list)\u001b[0m\n\u001b[1;32m     25\u001b[0m    condition \u001b[38;5;241m=\u001b[39m \u001b[38;5;28;01mFalse\u001b[39;00m\n\u001b[1;32m     27\u001b[0m distance \u001b[38;5;241m+\u001b[39m\u001b[38;5;241m=\u001b[39m \u001b[38;5;241m1\u001b[39m\n\u001b[0;32m---> 29\u001b[0m recent_nodes \u001b[38;5;241m=\u001b[39m [k \u001b[38;5;28;01mfor\u001b[39;00m k,v \u001b[38;5;129;01min\u001b[39;00m distance_dict\u001b[38;5;241m.\u001b[39mitems() \u001b[38;5;28;01mif\u001b[39;00m v \u001b[38;5;241m==\u001b[39m distance \u001b[38;5;241m-\u001b[39m \u001b[38;5;241m1\u001b[39m]\n\u001b[1;32m     31\u001b[0m \u001b[38;5;28;01mfor\u001b[39;00m node \u001b[38;5;129;01min\u001b[39;00m recent_nodes:\n\u001b[1;32m     32\u001b[0m    \u001b[38;5;28;01mfor\u001b[39;00m edge \u001b[38;5;129;01min\u001b[39;00m edge_list:\n",
      "Cell \u001b[0;32mIn[553], line 29\u001b[0m, in \u001b[0;36m<listcomp>\u001b[0;34m(.0)\u001b[0m\n\u001b[1;32m     25\u001b[0m    condition \u001b[38;5;241m=\u001b[39m \u001b[38;5;28;01mFalse\u001b[39;00m\n\u001b[1;32m     27\u001b[0m distance \u001b[38;5;241m+\u001b[39m\u001b[38;5;241m=\u001b[39m \u001b[38;5;241m1\u001b[39m\n\u001b[0;32m---> 29\u001b[0m recent_nodes \u001b[38;5;241m=\u001b[39m [k \u001b[38;5;28;01mfor\u001b[39;00m k,v \u001b[38;5;129;01min\u001b[39;00m distance_dict\u001b[38;5;241m.\u001b[39mitems() \u001b[38;5;28;01mif\u001b[39;00m v \u001b[38;5;241m==\u001b[39m distance \u001b[38;5;241m-\u001b[39m \u001b[38;5;241m1\u001b[39m]\n\u001b[1;32m     31\u001b[0m \u001b[38;5;28;01mfor\u001b[39;00m node \u001b[38;5;129;01min\u001b[39;00m recent_nodes:\n\u001b[1;32m     32\u001b[0m    \u001b[38;5;28;01mfor\u001b[39;00m edge \u001b[38;5;129;01min\u001b[39;00m edge_list:\n",
      "\u001b[0;31mKeyboardInterrupt\u001b[0m: "
     ]
    }
   ],
   "source": [
    "distances, connected_edge_list = check_distance(tfile_01_edges_names, tfile_01_nodes, return_connected_edge_list=True)\n",
    "print(distances)\n",
    "print(connected_edge_list)\n"
   ]
  },
  {
   "cell_type": "markdown",
   "metadata": {},
   "source": [
    "## Check Connectivity\n",
    "If graph is connected, amount of numbered (=connected) nodes = total number of nodes"
   ]
  },
  {
   "cell_type": "code",
   "execution_count": 513,
   "metadata": {},
   "outputs": [
    {
     "data": {
      "text/plain": [
       "True"
      ]
     },
     "execution_count": 513,
     "metadata": {},
     "output_type": "execute_result"
    }
   ],
   "source": [
    "len(distances) == len(tfile_01_nodes)"
   ]
  },
  {
   "cell_type": "markdown",
   "metadata": {},
   "source": [
    "### Find largest component\n",
    "Chose random node, check connectivity.\n",
    "If size < N/2, not the largest component.\n",
    "Chose random node, not in first search, and check distances (respectively length of corresponding dictionary) again."
   ]
  },
  {
   "cell_type": "code",
   "execution_count": 544,
   "metadata": {},
   "outputs": [],
   "source": [
    "def get_largest_component(edge_list, node_list):\n",
    "\n",
    "    checked_nodes = []\n",
    "    unchecked_nodes = node_list\n",
    "\n",
    "    found_components = []\n",
    "\n",
    "    while len(checked_nodes) <= len(node_list)/2:\n",
    "        remaining_nodes = list(set(unchecked_nodes)-set(checked_nodes))\n",
    "        starting_node = choice(remaining_nodes)\n",
    "\n",
    "        distance_dict, connected_edge_list = check_distance(edge_list, node_list, return_connected_edge_list=True)\n",
    "\n",
    "        #add all connected\n",
    "        for node in distance_dict.keys():\n",
    "            checked_nodes.append(node)\n",
    "\n",
    "        found_components.append(distance_dict)\n",
    "\n",
    "    #find largest component (= longest dict) in found_components\n",
    "\n",
    "    largest_component = found_components[0]\n",
    "    for d in found_components:\n",
    "        if len(d) > len(largest_component):\n",
    "            largest_component = d\n",
    "\n",
    "    return largest_component\n",
    "\n",
    "\n"
   ]
  },
  {
   "cell_type": "code",
   "execution_count": 545,
   "metadata": {},
   "outputs": [
    {
     "data": {
      "text/plain": [
       "{'H': 0, 'D': 1, 'G': 1, 'B': 2, 'F': 2, 'A': 3, 'E': 3, 'C': 3}"
      ]
     },
     "execution_count": 545,
     "metadata": {},
     "output_type": "execute_result"
    }
   ],
   "source": [
    "largest_component = get_largest_component(tfile_01_edges_names, tfile_01_nodes)\n",
    "largest_component"
   ]
  },
  {
   "cell_type": "markdown",
   "metadata": {},
   "source": [
    "### Calculate Closeness Centrality\n",
    "for each node in largest component"
   ]
  },
  {
   "cell_type": "code",
   "execution_count": null,
   "metadata": {},
   "outputs": [],
   "source": [
    "def distance_node(node_list, edge_list):\n",
    "    #node_list = list of nodes\n",
    "    #edge_list = corresponding list of edges of the node_list\n",
    "    pass\n",
    "    \n",
    "\n",
    "def get_closeness_centrality(node, edge_list, node_list):\n",
    "    #returns closeness centrality (CC) value of node i\n",
    "    #Params: \n",
    "    # node = name/num of node of interest\n",
    "    # edge_list = edge list of connected graph/component\n",
    "    # node_list = list of nodes in edge_list\n",
    "\n",
    "    # N = total number of nodes\n",
    "    # M = adjacency matrix\n",
    "    # i = Node i (= Node of interest)\n",
    "\n",
    "    N = len(node_list)\n",
    "\n",
    "    distances_dict = check_distance(edge_list, node_list, node)\n",
    "\n",
    "    distances = [v for v in distances_dict.values()]\n",
    "\n",
    "    Ci = (N - 1) / sum(distances)\n",
    "\n",
    "    return Ci\n"
   ]
  },
  {
   "cell_type": "code",
   "execution_count": 543,
   "metadata": {},
   "outputs": [
    {
     "name": "stdout",
     "output_type": "stream",
     "text": [
      "F\n",
      "{'F': 0, 'C': 1, 'E': 1, 'G': 1, 'A': 2, 'B': 2, 'H': 2, 'D': 3}\n",
      "['F', 'C', 'E', 'G', 'A', 'B', 'H', 'D']\n",
      "C\n",
      "{'F': 0, 'C': 1, 'E': 1, 'G': 1, 'A': 2, 'B': 2, 'H': 2, 'D': 3}\n",
      "['F', 'C', 'E', 'G', 'A', 'B', 'H', 'D']\n",
      "E\n",
      "{'F': 0, 'C': 1, 'E': 1, 'G': 1, 'A': 2, 'B': 2, 'H': 2, 'D': 3}\n",
      "['F', 'C', 'E', 'G', 'A', 'B', 'H', 'D']\n",
      "G\n",
      "{'F': 0, 'C': 1, 'E': 1, 'G': 1, 'A': 2, 'B': 2, 'H': 2, 'D': 3}\n",
      "['F', 'C', 'E', 'G', 'A', 'B', 'H', 'D']\n",
      "A\n",
      "{'F': 0, 'C': 1, 'E': 1, 'G': 1, 'A': 2, 'B': 2, 'H': 2, 'D': 3}\n",
      "['F', 'C', 'E', 'G', 'A', 'B', 'H', 'D']\n",
      "B\n",
      "{'F': 0, 'C': 1, 'E': 1, 'G': 1, 'A': 2, 'B': 2, 'H': 2, 'D': 3}\n",
      "['F', 'C', 'E', 'G', 'A', 'B', 'H', 'D']\n",
      "H\n",
      "{'F': 0, 'C': 1, 'E': 1, 'G': 1, 'A': 2, 'B': 2, 'H': 2, 'D': 3}\n",
      "['F', 'C', 'E', 'G', 'A', 'B', 'H', 'D']\n",
      "D\n",
      "{'F': 0, 'C': 1, 'E': 1, 'G': 1, 'A': 2, 'B': 2, 'H': 2, 'D': 3}\n",
      "['F', 'C', 'E', 'G', 'A', 'B', 'H', 'D']\n"
     ]
    },
    {
     "data": {
      "text/plain": [
       "0.5"
      ]
     },
     "execution_count": 543,
     "metadata": {},
     "output_type": "execute_result"
    }
   ],
   "source": [
    "\n",
    "#closeness centrality for largest component (lc)\n",
    "CC_lc = {}\n",
    "node_list_lc = [k for k in largest_component.keys()]\n",
    "\n",
    "for node in largest_component.keys():\n",
    "    print(node)\n",
    "    print(largest_component)\n",
    "    print(node_list_lc)\n",
    "    #CC_lc[node] = get_closeness_centrality(node, largest_component, node_list_lc)\n",
    "\n",
    "\n",
    "\n",
    "get_closeness_centrality(\"A\", tfile_01_edges_names, tfile_01_nodes)"
   ]
  },
  {
   "cell_type": "code",
   "execution_count": null,
   "metadata": {},
   "outputs": [],
   "source": []
  }
 ],
 "metadata": {
  "kernelspec": {
   "display_name": "Python 3",
   "language": "python",
   "name": "python3"
  },
  "language_info": {
   "codemirror_mode": {
    "name": "ipython",
    "version": 3
   },
   "file_extension": ".py",
   "mimetype": "text/x-python",
   "name": "python",
   "nbconvert_exporter": "python",
   "pygments_lexer": "ipython3",
   "version": "3.8.10"
  }
 },
 "nbformat": 4,
 "nbformat_minor": 2
}
