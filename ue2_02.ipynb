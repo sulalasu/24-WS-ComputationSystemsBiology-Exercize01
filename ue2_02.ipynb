{
 "cells": [
  {
   "cell_type": "markdown",
   "metadata": {},
   "source": [
    "## Task\n",
    "\n",
    "● Write a (Python) program that  \n",
    "○ reads in a network from an sif-file  \n",
    "○ checks if all nodes are connected, and if not finds the giant component (=largest set of nodes\n",
    "that are connected to each other)  \n",
    "○ calculates the closeness centrality for each node in the giant component  \n",
    "■ If you want more of a challenge, you can calculate the betweenness centrality instead\n",
    "\n",
    "● You can check your results with cytoscape or NetworkX (https://networkx.org/)\n",
    "\n",
    "● You can not use any of the functionalities of NetworkX, you have to write the\n",
    "code on your own  \n",
    "○ You can use “standard” Python libraries, but nothing related to networks. If in doubt, ask me.\n",
    "\n",
    "● There are no points for style or efficiency etc, but your code needs to be able  \n",
    "to calculate the chosen centrality for galFiltered.sif (see below) in a\n",
    "reasonable time"
   ]
  },
  {
   "cell_type": "markdown",
   "metadata": {},
   "source": [
    "#### Additional information\n",
    "● Simple interaction format  \n",
    "○ Different flavours, the examples I provide are written as  \n",
    "Node1 pp Node2  \n",
    "Node1 pp Node3  \n",
    "Node2 pp Node4  \n",
    "● pp stands for protein-protein, it doesn’t matter for this exercise  \n",
    "● Each line in the sif file corresponds to an edge in the network, conversely  \n",
    "there is one line for each edge"
   ]
  },
  {
   "cell_type": "markdown",
   "metadata": {},
   "source": []
  },
  {
   "cell_type": "code",
   "execution_count": 3,
   "metadata": {},
   "outputs": [],
   "source": [
    "import os\n",
    "import matplotlib as plt\n",
    "import numpy as np\n",
    "import networkx as nx\n",
    "from random import choice"
   ]
  },
  {
   "cell_type": "code",
   "execution_count": 4,
   "metadata": {},
   "outputs": [],
   "source": [
    "cwd = os.getcwd()\n",
    "\n",
    "def read_file(filename, cwd = cwd):\n",
    "    #returns edge list stored in file\n",
    "    with open(cwd + \"/02_testfiles/\" + filename) as file:\n",
    "        contents = []\n",
    "\n",
    "        for line in file:\n",
    "            line = line.strip().split(sep=\" pp \")\n",
    "            contents.append((line[0], line[1]))\n",
    "\n",
    "\n",
    "    return contents\n",
    "\n"
   ]
  },
  {
   "cell_type": "code",
   "execution_count": 5,
   "metadata": {},
   "outputs": [],
   "source": [
    "# def convert_node_names_to_nums(edge_list_names, node_list):\n",
    "#     #make dictionary with key = node name, value = node number representation\n",
    "#     edge_nums = []\n",
    "\n",
    "#     for edge in edge_list_names:\n",
    "#         source = node_list.index(edge[0])\n",
    "#         destination = node_list.index(edge[1])\n",
    "#         edge_nums.append((source, destination))\n",
    "        \n",
    "#     return edge_nums\n",
    "        \n"
   ]
  },
  {
   "cell_type": "code",
   "execution_count": 6,
   "metadata": {},
   "outputs": [],
   "source": [
    "def make_label_dict(node_list):\n",
    "    label_dict = {}\n",
    "    node_num = 0\n",
    "\n",
    "    for node in node_list:\n",
    "        label_dict[node] = node_num\n",
    "        node_num += 1\n",
    "\n",
    "    return label_dict\n",
    "\n",
    "def convert_node_names_to_nums(edge_list_names, node_list):\n",
    "    #make dictionary with key = node name, value = node number representation\n",
    "    label_dict = make_label_dict(node_list)\n",
    "\n",
    "    edge_nums = []\n",
    "\n",
    "    for edge in edge_list_names:\n",
    "        source = label_dict[edge[0]]\n",
    "        destination = label_dict[edge[1]]\n",
    "        edge_nums.append((source, destination))\n",
    "\n",
    "    # for edge in edge_list_names:\n",
    "    #     source = node_list.index(edge[0])\n",
    "    #     destination = node_list.index(edge[1])\n",
    "    #     edge_nums.append((source, destination))\n",
    "        \n",
    "    return edge_nums\n",
    "        \n"
   ]
  },
  {
   "cell_type": "code",
   "execution_count": 7,
   "metadata": {},
   "outputs": [],
   "source": [
    "def get_Node_list(edge_list):\n",
    "    #returns a Node list from an edge_list\n",
    "    node_list = []\n",
    "    for edge in edge_list:\n",
    "        for node in edge:\n",
    "            if node not in node_list:\n",
    "                node_list.append(node)\n",
    "\n",
    "    node_list.sort()\n",
    "\n",
    "    return node_list"
   ]
  },
  {
   "cell_type": "code",
   "execution_count": 8,
   "metadata": {},
   "outputs": [],
   "source": [
    "def make_adjacency_matrix(edges, nodes):\n",
    "    #initialize zero adjacency matrix:\n",
    "    adj_matrix = [[0 for _ in range(len(nodes))] for _ in range(len(nodes))]\n",
    "\n",
    "    #set connections to 1:\n",
    "    for edge in edges:\n",
    "        source = edge[0]\n",
    "        destination = edge[1]\n",
    "\n",
    "        adj_matrix[source][destination] = 1\n",
    "\n",
    "        adj_matrix[destination][source] = 1\n",
    "\n",
    "    return adj_matrix\n",
    "    print(adj_matrix)"
   ]
  },
  {
   "cell_type": "code",
   "execution_count": 9,
   "metadata": {},
   "outputs": [
    {
     "data": {
      "text/plain": [
       "[('A', 'B'),\n",
       " ('A', 'C'),\n",
       " ('B', 'D'),\n",
       " ('B', 'E'),\n",
       " ('C', 'F'),\n",
       " ('D', 'H'),\n",
       " ('E', 'F'),\n",
       " ('F', 'G'),\n",
       " ('G', 'H')]"
      ]
     },
     "execution_count": 9,
     "metadata": {},
     "output_type": "execute_result"
    }
   ],
   "source": [
    "tfile_01_edges_names = read_file(\"example.sif\")\n",
    "tfile_01_edges_names"
   ]
  },
  {
   "cell_type": "code",
   "execution_count": 10,
   "metadata": {},
   "outputs": [
    {
     "data": {
      "text/plain": [
       "['A', 'B', 'C', 'D', 'E', 'F', 'G', 'H']"
      ]
     },
     "execution_count": 10,
     "metadata": {},
     "output_type": "execute_result"
    }
   ],
   "source": [
    "tfile_01_nodes = get_Node_list(tfile_01_edges_names)\n",
    "tfile_01_nodes"
   ]
  },
  {
   "cell_type": "code",
   "execution_count": 11,
   "metadata": {},
   "outputs": [
    {
     "data": {
      "text/plain": [
       "[(0, 1), (0, 2), (1, 3), (1, 4), (2, 5), (3, 7), (4, 5), (5, 6), (6, 7)]"
      ]
     },
     "execution_count": 11,
     "metadata": {},
     "output_type": "execute_result"
    }
   ],
   "source": [
    "tfile_01_edges = convert_node_names_to_nums(tfile_01_edges_names, tfile_01_nodes)\n",
    "tfile_01_edges"
   ]
  },
  {
   "cell_type": "code",
   "execution_count": 12,
   "metadata": {},
   "outputs": [
    {
     "data": {
      "text/plain": [
       "[[0, 1, 1, 0, 0, 0, 0, 0],\n",
       " [1, 0, 0, 1, 1, 0, 0, 0],\n",
       " [1, 0, 0, 0, 0, 1, 0, 0],\n",
       " [0, 1, 0, 0, 0, 0, 0, 1],\n",
       " [0, 1, 0, 0, 0, 1, 0, 0],\n",
       " [0, 0, 1, 0, 1, 0, 1, 0],\n",
       " [0, 0, 0, 0, 0, 1, 0, 1],\n",
       " [0, 0, 0, 1, 0, 0, 1, 0]]"
      ]
     },
     "execution_count": 12,
     "metadata": {},
     "output_type": "execute_result"
    }
   ],
   "source": [
    "tfile_01_adjmat = make_adjacency_matrix(tfile_01_edges, tfile_01_nodes)\n",
    "tfile_01_adjmat"
   ]
  },
  {
   "cell_type": "code",
   "execution_count": 13,
   "metadata": {},
   "outputs": [],
   "source": [
    "def get_closeness_centrality(N, M, i):\n",
    "    #returns closeness centrality (CC) value of node i\n",
    "    #Params: \n",
    "    # N = total number of nodes\n",
    "    # M = adjacency matrix\n",
    "    # i = Node i (= Node of interest)\n",
    "\n",
    "\n",
    "    # dxi = distance between node x and node i, with i != x\n",
    "\n",
    "    return CC"
   ]
  },
  {
   "cell_type": "code",
   "execution_count": 14,
   "metadata": {},
   "outputs": [],
   "source": [
    "def get_betweenness_centrality(M, i):\n",
    "    #returns Betweenness centrality (BC) value of node i\n",
    "    #Params: \n",
    "    # M = adjacency matrix\n",
    "    # i = Node i (= Node of interest)\n",
    "\n",
    "\n",
    "    return BC"
   ]
  },
  {
   "cell_type": "code",
   "execution_count": 15,
   "metadata": {},
   "outputs": [
    {
     "data": {
      "image/png": "[encoded data removed]",
      "text/plain": [
       "<Figure size 640x480 with 1 Axes>"
      ]
     },
     "metadata": {},
     "output_type": "display_data"
    }
   ],
   "source": [
    "G = nx.from_edgelist(tfile_01_edges_names)\n",
    "nx.draw(G, with_labels = True)\n",
    "\n",
    "\n",
    "#np_matrix = np.asmatrix(tfile_01_adjmat)\n",
    "#G3 = nx.from_numpy_array(np_matrix)\n",
    "#nx.draw(G3)\n",
    "\n"
   ]
  },
  {
   "cell_type": "code",
   "execution_count": null,
   "metadata": {},
   "outputs": [],
   "source": [
    "def check_connectivity(edge_list, node_list):\n",
    "    #checks, if all nodes are connected.\n",
    "    # Params:\n",
    "    # M = adjacency matrix\n",
    "    # node_list = sorted name list of nodes\n",
    "\n",
    "    #select random starting node:\n",
    "    N_i = choice(node_list)\n",
    "    \n",
    "    distance = 0\n",
    "    distance_dict = {distance:[N_i]}\n",
    "\n",
    "    #convert edge_list to list of lists\n",
    "    edges = [list(elem) for elem in edge_list]\n",
    "\n",
    "\n",
    "    t = True    \n",
    "    c = 0\n",
    "    #approach 01: make a dictionary with distance:node(s)\n",
    "    # while t == True:\n",
    "    #     print(distance_dict)\n",
    "    #     print(distance)\n",
    "    #     print()\n",
    "    #     distance += 1\n",
    "    #     distance_dict[distance] = []\n",
    "\n",
    "    #     for node in distance_dict[distance-1]:\n",
    "    #         print(node)\n",
    "    #         for edge in edge_list:\n",
    "    #             if node in edge:\n",
    "    #                 print(edge)\n",
    "    #                 for node in edge:\n",
    "    #                     if node not in distance_dict[distance]:\n",
    "    #                         print(node)\n",
    "    #                         distance_dict[distance].append(node)\n",
    "\n",
    "    #     if len(distance_dict[distance]) == 0 or c >= 10:\n",
    "    #         print(\"break\")\n",
    "    #         break \n",
    "    #     c += 1\n",
    "        \n",
    "    #approach 2: make dictionary with node(label):distance \n",
    "    distance_dict = {}\n",
    "    distance_dict[N_i] = 0\n",
    "\n",
    "\n",
    "    while t == True and c <= 10:\n",
    "        distance += 1\n",
    "\n",
    "        # print(f\"appr 02: {distance_dict}\")\n",
    "        #iterate over distance-1 nodes (start with 0, then distance=1, etc)\n",
    "        #recent_nodes = [list(distance_dict.values()).index(0)]\n",
    "        recent_nodes = list(distance_dict.keys())[list(distance_dict.values()).index(distance-1)]\n",
    "        # print()\n",
    "        # print(\"recent nodes:\")\n",
    "        # print(recent_nodes)\n",
    "        # print(\"distance\")\n",
    "        # print(distance)\n",
    "        # print()\n",
    "\n",
    "\n",
    "        for node in recent_nodes:\n",
    "          for edge in edge_list:\n",
    "            if node in edge:\n",
    "               #iterate over edges nodes to get other\n",
    "               for inner_node in edge:\n",
    "                  if inner_node != node and inner_node not in distance_dict:\n",
    "                     distance_dict[inner_node] = distance\n",
    "\n",
    "\n",
    "        if len(distance_dict) >= len(node_list):\n",
    "            print(\"break because of len\")\n",
    "            break \n",
    "        # elif c >= 10:\n",
    "        #     print(\"break because of c\")\n",
    "        #     break\n",
    "\n",
    "        # c += 1"
   ]
  },
  {
   "cell_type": "code",
   "execution_count": 27,
   "metadata": {},
   "outputs": [
    {
     "name": "stdout",
     "output_type": "stream",
     "text": [
      "appr 02: {'H': 0}\n",
      "\n",
      "recent nodes:\n",
      "H\n",
      "distance\n",
      "1\n",
      "\n",
      "appr 02: {'H': 0, 'D': 1, 'G': 1}\n",
      "\n",
      "recent nodes:\n",
      "D\n",
      "distance\n",
      "2\n",
      "\n",
      "appr 02: {'H': 0, 'D': 1, 'G': 1, 'B': 2}\n",
      "\n",
      "recent nodes:\n",
      "B\n",
      "distance\n",
      "3\n",
      "\n",
      "appr 02: {'H': 0, 'D': 1, 'G': 1, 'B': 2, 'A': 3, 'E': 3}\n",
      "\n",
      "recent nodes:\n",
      "A\n",
      "distance\n",
      "4\n",
      "\n",
      "appr 02: {'H': 0, 'D': 1, 'G': 1, 'B': 2, 'A': 3, 'E': 3, 'C': 4}\n",
      "\n",
      "recent nodes:\n",
      "C\n",
      "distance\n",
      "5\n",
      "\n",
      "break because of len\n"
     ]
    }
   ],
   "source": [
    "check_connectivity(tfile_01_edges_names, tfile_01_nodes)"
   ]
  },
  {
   "cell_type": "code",
   "execution_count": null,
   "metadata": {},
   "outputs": [],
   "source": []
  }
 ],
 "metadata": {
  "kernelspec": {
   "display_name": "Python 3",
   "language": "python",
   "name": "python3"
  },
  "language_info": {
   "codemirror_mode": {
    "name": "ipython",
    "version": 3
   },
   "file_extension": ".py",
   "mimetype": "text/x-python",
   "name": "python",
   "nbconvert_exporter": "python",
   "pygments_lexer": "ipython3",
   "version": "3.8.10"
  }
 },
 "nbformat": 4,
 "nbformat_minor": 2
}
